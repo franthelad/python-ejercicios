{
 "cells": [
  {
   "cell_type": "markdown",
   "metadata": {},
   "source": [
    "Ejercicio 6.1: Iteración ilustrada\n",
    "Crea la siguiente lista:\n",
    "\n",
    "a = [1,9,4,25,16]\n",
    "\n",
    "Repetir manualmente esta lista. Llame __iter__() para obtener un iterador y llame al método __next__() para obtener elementos sucesivos."
   ]
  },
  {
   "cell_type": "code",
   "execution_count": 12,
   "metadata": {},
   "outputs": [
    {
     "data": {
      "text/plain": [
       "9"
      ]
     },
     "execution_count": 12,
     "metadata": {},
     "output_type": "execute_result"
    }
   ],
   "source": [
    "a = [1, 9, 4, 25, 16]\n",
    "i = a.__iter__()\n",
    "i.__next__()\n",
    "i.__next__()"
   ]
  },
  {
   "cell_type": "code",
   "execution_count": 6,
   "metadata": {},
   "outputs": [
    {
     "name": "stdout",
     "output_type": "stream",
     "text": [
      "1\n",
      "9\n",
      "4\n",
      "25\n",
      "16\n"
     ]
    }
   ],
   "source": [
    "iterador = iter(a)\n",
    "\n",
    "print(next(iterador))\n",
    "print(next(iterador))\n",
    "print(next(iterador))\n",
    "print(next(iterador))\n",
    "print(next(iterador))\n"
   ]
  },
  {
   "cell_type": "code",
   "execution_count": 18,
   "metadata": {},
   "outputs": [
    {
     "name": "stdout",
     "output_type": "stream",
     "text": [
      "generador_1\n",
      "\n",
      "1\n",
      "2\n",
      "3\n",
      "4\n",
      "5\n",
      "\n",
      "generador_2\n",
      "1\n",
      "2\n"
     ]
    }
   ],
   "source": [
    "lista = [1, 2, 3, 4, 5, 6, 7, 8, 9]\n",
    "\n",
    "def generador(x):\n",
    "    for i in x:\n",
    "        yield i\n",
    "print('generador_1\\n')\n",
    "generador_1 = generador(lista)\n",
    "print(generador_1.__next__())\n",
    "print(generador_1.__next__())\n",
    "print(generador_1.__next__())\n",
    "print(generador_1.__next__())\n",
    "print(generador_1.__next__())\n",
    "\n",
    "print(\"\\ngenerador_2\")\n",
    "generador_2 = iter(lista)\n",
    "print(generador_2.__next__())\n",
    "print(next(generador_2))"
   ]
  },
  {
   "cell_type": "code",
   "execution_count": 19,
   "metadata": {},
   "outputs": [
    {
     "name": "stdout",
     "output_type": "stream",
     "text": [
      "3\n",
      "4\n",
      "5\n",
      "6\n",
      "7\n"
     ]
    }
   ],
   "source": [
    "def generador_inf(x):\n",
    "    while True:\n",
    "        x += 1\n",
    "        yield x\n",
    "\n",
    "generador_3 = generador_inf(2)\n",
    "\n",
    "for i in range(5):\n",
    "    print(generador_3.__next__())"
   ]
  },
  {
   "cell_type": "code",
   "execution_count": 22,
   "metadata": {},
   "outputs": [
    {
     "name": "stdout",
     "output_type": "stream",
     "text": [
      "<generator object <genexpr> at 0x0000024731974FB0>\n",
      "1\n",
      "2\n",
      "con bucle for:\n",
      "3\n",
      "4\n",
      "5\n"
     ]
    }
   ],
   "source": [
    "generador_4 = (x + 1 for x in range(5))\n",
    "print(generador_4)\n",
    "print(next(generador_4))\n",
    "print(generador_4.__next__())\n",
    "print('con bucle for:')\n",
    "for i in generador_4:\n",
    "    print(i)"
   ]
  },
  {
   "cell_type": "markdown",
   "metadata": {},
   "source": [
    "clase que genera cuadrados de un rango asignado."
   ]
  },
  {
   "cell_type": "code",
   "execution_count": 39,
   "metadata": {},
   "outputs": [
    {
     "name": "stdout",
     "output_type": "stream",
     "text": [
      "<__main__.Cuadrado object at 0x0000024731388980>\n",
      "0\n",
      "1\n",
      "4\n"
     ]
    }
   ],
   "source": [
    "class Cuadrado:\n",
    "    def __init__(self, num):\n",
    "        self.__num = num\n",
    "        self.__contador = 0\n",
    "    \n",
    "    def __iter__(self):\n",
    "        return self\n",
    "    \n",
    "    def __next__(self):\n",
    "        if self.__contador == self.__num:\n",
    "            raise StopIteration\n",
    "        \n",
    "        result = self.__contador ** 2\n",
    "        self.__contador += 1\n",
    "        return result\n",
    "\n",
    "generador_5 = Cuadrado(10)\n",
    "\n",
    "print(generador_5)\n",
    "print(next(generador_5))\n",
    "print(generador_5.__next__())\n",
    "print(next(generador_5))"
   ]
  },
  {
   "cell_type": "code",
   "execution_count": 41,
   "metadata": {},
   "outputs": [
    {
     "name": "stdout",
     "output_type": "stream",
     "text": [
      "0\n",
      "1\n",
      "4\n",
      "9\n",
      "16\n",
      "25\n",
      "36\n",
      "49\n",
      "64\n",
      "81\n"
     ]
    }
   ],
   "source": [
    "generador_6 = (x ** 2 for x in range(10))\n",
    "for i in generador_6:\n",
    "    print(i)"
   ]
  },
  {
   "cell_type": "code",
   "execution_count": 45,
   "metadata": {},
   "outputs": [
    {
     "name": "stdout",
     "output_type": "stream",
     "text": [
      "4950\n",
      "\n",
      "4950\n"
     ]
    }
   ],
   "source": [
    "generador_7 = (x for x in range(100))\n",
    "print(sum(generador_7))\n",
    "print()\n",
    "print(sum(range(100)))"
   ]
  }
 ],
 "metadata": {
  "kernelspec": {
   "display_name": "Python 3",
   "language": "python",
   "name": "python3"
  },
  "language_info": {
   "codemirror_mode": {
    "name": "ipython",
    "version": 3
   },
   "file_extension": ".py",
   "mimetype": "text/x-python",
   "name": "python",
   "nbconvert_exporter": "python",
   "pygments_lexer": "ipython3",
   "version": "3.12.0"
  }
 },
 "nbformat": 4,
 "nbformat_minor": 2
}
