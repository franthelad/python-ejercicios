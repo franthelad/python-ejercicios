{
 "cells": [
  {
   "cell_type": "markdown",
   "metadata": {},
   "source": [
    "1.- Implementa nuestra amada función que calcula la lista con los productos de los elementos de dos listas sin utilizar el operador corchete, ni bucles for ni comprensión de listas, ni zip."
   ]
  },
  {
   "cell_type": "code",
   "execution_count": 15,
   "metadata": {},
   "outputs": [],
   "source": [
    "lista_1 = [1, 2, 3]\n",
    "lista_2 = [4, 5, 6]"
   ]
  },
  {
   "cell_type": "code",
   "execution_count": 34,
   "metadata": {},
   "outputs": [
    {
     "name": "stdout",
     "output_type": "stream",
     "text": [
      "4\n",
      "10\n",
      "18\n"
     ]
    }
   ],
   "source": [
    "def productos(a_list, b_list):\n",
    "    contador = 0\n",
    "    for i in a_list:\n",
    "        yield i * b_list[contador]\n",
    "        contador += 1\n",
    "\n",
    "\n",
    "generador_1 = productos(lista_1, lista_2)\n",
    "print(next(generador_1))\n",
    "print(next(generador_1))\n",
    "print(next(generador_1))"
   ]
  },
  {
   "cell_type": "code",
   "execution_count": 39,
   "metadata": {},
   "outputs": [
    {
     "name": "stdout",
     "output_type": "stream",
     "text": [
      "[4, 10, 18]\n"
     ]
    }
   ],
   "source": [
    "def productos_2(a_list, b_list):\n",
    "    a_list_it = iter(a_list)\n",
    "    b_list_it = iter(b_list)\n",
    "    result = []\n",
    "    try:\n",
    "        while True:\n",
    "            result.append(next(a_list_it) * next(b_list_it))\n",
    "    except StopIteration:\n",
    "        pass\n",
    "    return result\n",
    "\n",
    "print(productos_2(lista_1, lista_2))\n"
   ]
  },
  {
   "cell_type": "markdown",
   "metadata": {},
   "source": [
    "2.- Implementa un generador sucesos (probabilidad) que produce una secuencia infinita de valores booleanos pseudoaletoreos con probabilidad de que sean True."
   ]
  },
  {
   "cell_type": "code",
   "execution_count": 55,
   "metadata": {},
   "outputs": [
    {
     "name": "stdout",
     "output_type": "stream",
     "text": [
      "True\n",
      "False\n"
     ]
    }
   ],
   "source": [
    "from random import randint\n",
    "\n",
    "def generador_aleatorios():\n",
    "    resultados = []\n",
    "    opciones = [True, False]\n",
    "    resultados.append(opciones[randint(0,1)])\n",
    "    for i in resultados:  \n",
    "        yield i\n",
    "        resultados.append(opciones[randint(0,1)])\n",
    "        \n",
    "generador_3 = generador_aleatorios()\n",
    "print(next(generador_3))\n",
    "print(next(generador_3))\n"
   ]
  },
  {
   "cell_type": "code",
   "execution_count": 69,
   "metadata": {},
   "outputs": [
    {
     "name": "stdout",
     "output_type": "stream",
     "text": [
      "False\n"
     ]
    }
   ],
   "source": [
    "print(next(generador_3))"
   ]
  },
  {
   "cell_type": "markdown",
   "metadata": {},
   "source": [
    "3.- Implementa un generador fibonacci que produce los diferentes de la secuencia de Fibonacci, que tiene la forma:\n",
    "\n",
    "0, 1, 1, 2, 3, 5, 8, 13, ...\n",
    "\n",
    "Cuyos dos primeros valores son 0 y 1 por definición y el resto se calculan sumando los dos últimos valores de la sucesión."
   ]
  },
  {
   "cell_type": "code",
   "execution_count": 106,
   "metadata": {},
   "outputs": [
    {
     "data": {
      "text/plain": [
       "'\\nprint(gen_fib.__next__())\\nprint(gen_fib.__next__())\\nprint(gen_fib.__next__())\\nprint(gen_fib.__next__())\\n'"
      ]
     },
     "execution_count": 106,
     "metadata": {},
     "output_type": "execute_result"
    }
   ],
   "source": [
    "def fibonacci():\n",
    "    num = [0]\n",
    "    for i in num:\n",
    "        yield i\n",
    "        if len(num) >= 2:\n",
    "            num.append(num[-1]  + num[-2])\n",
    "        elif len(num) == 1:\n",
    "            num.append(1) \n",
    "        \n",
    "\n",
    "gen_fib = fibonacci()\n",
    "'''\n",
    "print(gen_fib.__next__())\n",
    "print(gen_fib.__next__())\n",
    "print(gen_fib.__next__())\n",
    "print(gen_fib.__next__())\n",
    "'''"
   ]
  },
  {
   "cell_type": "code",
   "execution_count": 127,
   "metadata": {},
   "outputs": [
    {
     "data": {
      "text/plain": [
       "6765"
      ]
     },
     "execution_count": 127,
     "metadata": {},
     "output_type": "execute_result"
    }
   ],
   "source": [
    "gen_fib.__next__()"
   ]
  },
  {
   "cell_type": "markdown",
   "metadata": {},
   "source": [
    "4.- Implementa un generador primos que genere todos los números primos. Por eficiencia, el generador debe ir almacenando los primos encontrados hasta el momento en una lista."
   ]
  },
  {
   "cell_type": "code",
   "execution_count": 59,
   "metadata": {},
   "outputs": [
    {
     "data": {
      "text/plain": [
       "2"
      ]
     },
     "execution_count": 59,
     "metadata": {},
     "output_type": "execute_result"
    }
   ],
   "source": [
    "def contador_infinito(num):\n",
    "    while True:\n",
    "        yield num\n",
    "        num += 1\n",
    "\n",
    "contador = contador_infinito(2)\n",
    "\n",
    "def primos():\n",
    "    primos = []\n",
    "    \n",
    "    for numerador in contador: \n",
    "        divisores = []\n",
    "        for divisor in range(1, numerador+1): \n",
    "            if numerador % divisor == 0:\n",
    "                divisores.append(divisor)\n",
    "            if len(divisores) > 2:\n",
    "                break\n",
    "        if len(divisores) == 2:\n",
    "            yield numerador\n",
    "            primos.append(numerador)\n",
    "        \n",
    "\n",
    "enumerador_primos = primos()\n",
    "next(enumerador_primos)"
   ]
  },
  {
   "cell_type": "code",
   "execution_count": 54,
   "metadata": {},
   "outputs": [
    {
     "data": {
      "text/plain": [
       "13"
      ]
     },
     "execution_count": 54,
     "metadata": {},
     "output_type": "execute_result"
    }
   ],
   "source": [
    "next(enumerador_primos) #un enumerador de numeros primos infinitos"
   ]
  }
 ],
 "metadata": {
  "kernelspec": {
   "display_name": "Python 3",
   "language": "python",
   "name": "python3"
  },
  "language_info": {
   "codemirror_mode": {
    "name": "ipython",
    "version": 3
   },
   "file_extension": ".py",
   "mimetype": "text/x-python",
   "name": "python",
   "nbconvert_exporter": "python",
   "pygments_lexer": "ipython3",
   "version": "3.12.0"
  }
 },
 "nbformat": 4,
 "nbformat_minor": 2
}
