{
 "cells": [
  {
   "cell_type": "markdown",
   "metadata": {},
   "source": [
    "PRACTICE 1 Make a nested loop and a python closure to make functions to get multiple multiplication functions using closures. That is using closures, one could make functions to create multiply_with_5() or multiply_with_4() functions using closures."
   ]
  },
  {
   "cell_type": "code",
   "execution_count": 12,
   "metadata": {},
   "outputs": [
    {
     "name": "stdout",
     "output_type": "stream",
     "text": [
      "<generator object multiplier_of.<locals>.times_to_multiply at 0x000001DEFA1772E0>\n",
      "1 multiplied by 5 equals 5.\n",
      "2 multiplied by 5 equals 10.\n",
      "3 multiplied by 5 equals 15.\n",
      "4 multiplied by 5 equals 20.\n",
      "5 multiplied by 5 equals 25.\n"
     ]
    },
    {
     "data": {
      "text/plain": [
       "'1 multiplied by 5 equals 5.'"
      ]
     },
     "execution_count": 12,
     "metadata": {},
     "output_type": "execute_result"
    }
   ],
   "source": [
    "def multiplier_of(mult):\n",
    "\n",
    "    def times_to_multiply(scale):\n",
    "\n",
    "        for i in range(1, scale+1):\n",
    "            #print(f'{i} multiplied by {mult} equals {i * mult}.') #simple task\n",
    "            yield f'{i} multiplied by {mult} equals {i * mult}.' #playing with generators\n",
    "        \n",
    "    return times_to_multiply\n",
    "\n",
    "\n",
    "multiplywith5 = multiplier_of(5)\n",
    "print(multiplywith5(9))\n",
    "for i in multiplywith5(5):\n",
    "    print(i)\n",
    "\n",
    "multiplier_1 = multiplywith5(10)\n",
    "next(multiplier_1)"
   ]
  },
  {
   "cell_type": "code",
   "execution_count": 15,
   "metadata": {},
   "outputs": [
    {
     "data": {
      "text/plain": [
       "'4 multiplied by 5 equals 20.'"
      ]
     },
     "execution_count": 15,
     "metadata": {},
     "output_type": "execute_result"
    }
   ],
   "source": [
    "next(multiplier_1)"
   ]
  },
  {
   "cell_type": "markdown",
   "metadata": {},
   "source": [
    "PRACTICE 2\n",
    "What if we want to make a function times that takes a number x, and which returns a function that itself takes a number y, and this function returns the value of multiplying x and y?"
   ]
  },
  {
   "cell_type": "code",
   "execution_count": 17,
   "metadata": {},
   "outputs": [
    {
     "data": {
      "text/plain": [
       "15"
      ]
     },
     "execution_count": 17,
     "metadata": {},
     "output_type": "execute_result"
    }
   ],
   "source": [
    "def times(x):\n",
    "\n",
    "    def multiply(y):\n",
    "        return x * y\n",
    "\n",
    "    return multiply\n",
    "\n",
    "multiplier_by_3 = times(3)\n",
    "\n",
    "multiplier_by_3(5)  # output 15"
   ]
  },
  {
   "cell_type": "markdown",
   "metadata": {},
   "source": [
    "PRACTICE 3\n",
    "Try to make a closure function exponent that takes a number y, and which returns a function that itself takes a number x, and which returns the value of raising x to the power of y."
   ]
  },
  {
   "cell_type": "code",
   "execution_count": 18,
   "metadata": {},
   "outputs": [
    {
     "data": {
      "text/plain": [
       "64"
      ]
     },
     "execution_count": 18,
     "metadata": {},
     "output_type": "execute_result"
    }
   ],
   "source": [
    "def exponent(y):\n",
    "\n",
    "    def exponent_base(x):\n",
    "        return x ** y\n",
    "    \n",
    "    return exponent_base\n",
    "\n",
    "power_by_3 = exponent(3)\n",
    "\n",
    "power_by_3(4) #returns 64"
   ]
  }
 ],
 "metadata": {
  "kernelspec": {
   "display_name": "Python 3",
   "language": "python",
   "name": "python3"
  },
  "language_info": {
   "codemirror_mode": {
    "name": "ipython",
    "version": 3
   },
   "file_extension": ".py",
   "mimetype": "text/x-python",
   "name": "python",
   "nbconvert_exporter": "python",
   "pygments_lexer": "ipython3",
   "version": "3.12.0"
  }
 },
 "nbformat": 4,
 "nbformat_minor": 2
}
