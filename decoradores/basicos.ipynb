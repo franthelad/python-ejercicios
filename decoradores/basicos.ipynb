{
 "cells": [
  {
   "cell_type": "code",
   "execution_count": 11,
   "metadata": {},
   "outputs": [],
   "source": [
    "import time"
   ]
  },
  {
   "cell_type": "code",
   "execution_count": 25,
   "metadata": {},
   "outputs": [
    {
     "name": "stdout",
     "output_type": "stream",
     "text": [
      "Before executing the function.\n",
      "Hello world!\n",
      "After executing the function.\n",
      "Before executing the function.\n",
      "Bye!\n",
      "After executing the function.\n"
     ]
    }
   ],
   "source": [
    "def decorator(fun):\n",
    "    def greetings():\n",
    "        print('Before executing the function.')\n",
    "        fun()\n",
    "        print('After executing the function.')\n",
    "    return greetings\n",
    "\n",
    "@decorator\n",
    "def say_hello():\n",
    "    print('Hello world!')\n",
    "@decorator\n",
    "def say_goodbye():\n",
    "    print('Bye!')\n",
    "\n",
    "say_hello()\n",
    "say_goodbye()"
   ]
  },
  {
   "cell_type": "code",
   "execution_count": 32,
   "metadata": {},
   "outputs": [
    {
     "name": "stdout",
     "output_type": "stream",
     "text": [
      "Before executing the function.\n",
      "Hello world!\n",
      "After executing the function.\n"
     ]
    }
   ],
   "source": [
    "#These are not decorators, im just testing some personal doubts\n",
    "\n",
    "def decorator(fun):\n",
    "    print('Before executing the function.')\n",
    "    fun()\n",
    "    print('After executing the function.')\n",
    "\n",
    "def say_hello():\n",
    "    print('Hello world!')\n",
    "\n",
    "\n",
    "decorator(say_hello)"
   ]
  },
  {
   "cell_type": "code",
   "execution_count": 58,
   "metadata": {},
   "outputs": [
    {
     "name": "stdout",
     "output_type": "stream",
     "text": [
      "hello world\n",
      "testing\n"
     ]
    },
    {
     "data": {
      "text/plain": [
       "<function __main__.decorator.<locals>.medio(*args, **kwargs)>"
      ]
     },
     "execution_count": 58,
     "metadata": {},
     "output_type": "execute_result"
    }
   ],
   "source": [
    "#These are not decorators, im just testing some personal doubts\n",
    "\n",
    "def decorator(fun):\n",
    "    def medio(*args, **kwargs):\n",
    "        print('Before executing the function.')\n",
    "        z = fun(*args, **kwargs)\n",
    "        print('After executing the function.')\n",
    "        return z\n",
    "    print('testing')\n",
    "    return medio\n",
    "\n",
    "def say_hello(phrase):\n",
    "    print(phrase)\n",
    "\n",
    "x = say_hello('hello world')\n",
    "decorator(x)"
   ]
  },
  {
   "cell_type": "code",
   "execution_count": 41,
   "metadata": {},
   "outputs": [
    {
     "name": "stdout",
     "output_type": "stream",
     "text": [
      "7898 es par!\n",
      "Function took 0.000997304916381836 to be executed.\n"
     ]
    }
   ],
   "source": [
    "def decorator_1(fun):\n",
    "    def timer(*args, **kwargs):\n",
    "        t1 = time.time()\n",
    "        fun(*args, **kwargs)\n",
    "        t2 = time.time()\n",
    "        final_time = t2 -t1\n",
    "        print(f'Function took {final_time} to be executed.')\n",
    "    return timer\n",
    "\n",
    "@decorator_1\n",
    "def even_number_checker(num):\n",
    "    if num % 2 == 0:\n",
    "        print(f'{num} es par!')\n",
    "    else:\n",
    "        print(f'{num} no es par!')\n",
    "\n",
    "even_number_checker(7898)"
   ]
  },
  {
   "cell_type": "code",
   "execution_count": 65,
   "metadata": {},
   "outputs": [
    {
     "name": "stdout",
     "output_type": "stream",
     "text": [
      "Operation starting\n",
      "Operation finishing\n"
     ]
    },
    {
     "data": {
      "text/plain": [
       "11.333333333333334"
      ]
     },
     "execution_count": 65,
     "metadata": {},
     "output_type": "execute_result"
    }
   ],
   "source": [
    "def decorator_2(fun):\n",
    "    def calculator(*args, **kwargs):\n",
    "        print ('Operation starting')\n",
    "        res = fun(*args, **kwargs)\n",
    "        print('Operation finishing')\n",
    "        return res\n",
    "    return calculator\n",
    "\n",
    "@decorator_2\n",
    "def divide_by_3(num):\n",
    "    return num / 3\n",
    "\n",
    "divide_by_3(34)"
   ]
  }
 ],
 "metadata": {
  "kernelspec": {
   "display_name": "Python 3",
   "language": "python",
   "name": "python3"
  },
  "language_info": {
   "codemirror_mode": {
    "name": "ipython",
    "version": 3
   },
   "file_extension": ".py",
   "mimetype": "text/x-python",
   "name": "python",
   "nbconvert_exporter": "python",
   "pygments_lexer": "ipython3",
   "version": "3.12.0"
  }
 },
 "nbformat": 4,
 "nbformat_minor": 2
}
