{
 "cells": [
  {
   "cell_type": "markdown",
   "metadata": {},
   "source": [
    "Objectives  \n",
    "creating classes, methods, and variables;  \n",
    "calling methods;  \n",
    "getting simple access to instance variables;  \n",
    "\n",
    "Scenario  \n",
    "create a class representing a mobile phone;  \n",
    "your class should implement the following methods:  \n",
    "__init__ expects a number to be passed as an argument; this method stores the number in an instance variable self.number  \n",
    "turn_on() should return the message 'mobile phone {number} is turned on'. Curly brackets are used to mark the place to insert the object's number variable;  \n",
    "turn_off() should return the message 'mobile phone is turned off';  \n",
    "call(number) should return the message 'calling {number}'. Curly brackets are used to mark the place to insert the object's number variable;  \n",
    "create two objects representing two different mobile phones; assign any random phone numbers to them;  \n",
    "implement a sequence of method calls on the objects to turn them on, call any number. Print the methods' outcomes;  \n",
    "turn off both mobiles.  "
   ]
  },
  {
   "cell_type": "code",
   "execution_count": 1,
   "metadata": {},
   "outputs": [],
   "source": [
    "class mobile_phone:\n",
    "\n",
    "    def __init__(self, number):\n",
    "        self.number = number\n",
    "    \n",
    "    def turn_on(self):\n",
    "        return f'Mobile phone {self.number} is turned on.'\n",
    "    \n",
    "    def turn_off(self):\n",
    "        return f'Mobile phone {self.number} is turned off.'\n",
    "    \n",
    "    def call(self, number):\n",
    "        return f'Calling {number}.'"
   ]
  },
  {
   "cell_type": "code",
   "execution_count": 3,
   "metadata": {},
   "outputs": [],
   "source": [
    "import random as rd"
   ]
  },
  {
   "cell_type": "code",
   "execution_count": 6,
   "metadata": {},
   "outputs": [],
   "source": [
    "def generate_rd_number():\n",
    "    number = ''\n",
    "    for i in range(9):\n",
    "        digit = rd.randint(0, 9)\n",
    "        number += str(digit)\n",
    "    return int(number)"
   ]
  },
  {
   "cell_type": "code",
   "execution_count": 13,
   "metadata": {},
   "outputs": [
    {
     "name": "stdout",
     "output_type": "stream",
     "text": [
      "816459086\n",
      "978690068\n"
     ]
    }
   ],
   "source": [
    "number_1 = generate_rd_number()\n",
    "number_2 = generate_rd_number()\n",
    "print(number_1, '\\n', number_2, sep= '')"
   ]
  },
  {
   "cell_type": "code",
   "execution_count": 14,
   "metadata": {},
   "outputs": [],
   "source": [
    "phone_1 = mobile_phone(number_1)\n",
    "phone_2 = mobile_phone(number_2)"
   ]
  },
  {
   "cell_type": "code",
   "execution_count": 16,
   "metadata": {},
   "outputs": [
    {
     "data": {
      "text/plain": [
       "'Mobile phone 816459086 is turned on.'"
      ]
     },
     "execution_count": 16,
     "metadata": {},
     "output_type": "execute_result"
    }
   ],
   "source": [
    "phone_1.turn_on()"
   ]
  },
  {
   "cell_type": "code",
   "execution_count": 15,
   "metadata": {},
   "outputs": [
    {
     "data": {
      "text/plain": [
       "'Calling 978690068.'"
      ]
     },
     "execution_count": 15,
     "metadata": {},
     "output_type": "execute_result"
    }
   ],
   "source": [
    "phone_1.call(number_2)"
   ]
  },
  {
   "cell_type": "code",
   "execution_count": 17,
   "metadata": {},
   "outputs": [
    {
     "data": {
      "text/plain": [
       "'Mobile phone 978690068 is turned on.'"
      ]
     },
     "execution_count": 17,
     "metadata": {},
     "output_type": "execute_result"
    }
   ],
   "source": [
    "phone_2.turn_on()"
   ]
  },
  {
   "cell_type": "code",
   "execution_count": 18,
   "metadata": {},
   "outputs": [
    {
     "data": {
      "text/plain": [
       "'Calling 816459086.'"
      ]
     },
     "execution_count": 18,
     "metadata": {},
     "output_type": "execute_result"
    }
   ],
   "source": [
    "phone_2.call(number_1)"
   ]
  }
 ],
 "metadata": {
  "kernelspec": {
   "display_name": "Python 3",
   "language": "python",
   "name": "python3"
  },
  "language_info": {
   "codemirror_mode": {
    "name": "ipython",
    "version": 3
   },
   "file_extension": ".py",
   "mimetype": "text/x-python",
   "name": "python",
   "nbconvert_exporter": "python",
   "pygments_lexer": "ipython3",
   "version": "3.12.0"
  }
 },
 "nbformat": 4,
 "nbformat_minor": 2
}
